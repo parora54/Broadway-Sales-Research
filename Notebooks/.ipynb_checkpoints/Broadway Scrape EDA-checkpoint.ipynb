{
 "cells": [
  {
   "cell_type": "markdown",
   "id": "10633add-453c-4568-bde1-afd09d6963bf",
   "metadata": {},
   "source": [
    "# Broadway Data Scrape EDA and initial Analysis of Data"
   ]
  },
  {
   "cell_type": "markdown",
   "id": "d980c542-f631-4ab5-bc37-b21c700fc1df",
   "metadata": {},
   "source": [
    "<b>Importing important packages and getting a view of first 10 rows:</b>"
   ]
  },
  {
   "cell_type": "code",
   "execution_count": 88,
   "id": "f15dd5f0-3cc6-446e-b5d6-22a2613ccfc4",
   "metadata": {},
   "outputs": [
    {
     "data": {
      "text/html": [
       "<div>\n",
       "<style scoped>\n",
       "    .dataframe tbody tr th:only-of-type {\n",
       "        vertical-align: middle;\n",
       "    }\n",
       "\n",
       "    .dataframe tbody tr th {\n",
       "        vertical-align: top;\n",
       "    }\n",
       "\n",
       "    .dataframe thead th {\n",
       "        text-align: right;\n",
       "    }\n",
       "</style>\n",
       "<table border=\"1\" class=\"dataframe\">\n",
       "  <thead>\n",
       "    <tr style=\"text-align: right;\">\n",
       "      <th></th>\n",
       "      <th>ShowID</th>\n",
       "      <th>Date</th>\n",
       "      <th>Gross</th>\n",
       "      <th>Attendance</th>\n",
       "      <th>% Capacity</th>\n",
       "      <th># Previews</th>\n",
       "      <th># Perf.</th>\n",
       "    </tr>\n",
       "  </thead>\n",
       "  <tbody>\n",
       "    <tr>\n",
       "      <th>0</th>\n",
       "      <td>#NAME?</td>\n",
       "      <td>26-May-24</td>\n",
       "      <td>$877,626</td>\n",
       "      <td>7540</td>\n",
       "      <td>92%</td>\n",
       "      <td>0</td>\n",
       "      <td>8</td>\n",
       "    </tr>\n",
       "    <tr>\n",
       "      <th>1</th>\n",
       "      <td>#NAME?</td>\n",
       "      <td>02-Jun-24</td>\n",
       "      <td>$775,476</td>\n",
       "      <td>6824</td>\n",
       "      <td>83%</td>\n",
       "      <td>0</td>\n",
       "      <td>8</td>\n",
       "    </tr>\n",
       "    <tr>\n",
       "      <th>2</th>\n",
       "      <td>#NAME?</td>\n",
       "      <td>09-Jun-24</td>\n",
       "      <td>$863,817</td>\n",
       "      <td>7109</td>\n",
       "      <td>87%</td>\n",
       "      <td>0</td>\n",
       "      <td>8</td>\n",
       "    </tr>\n",
       "    <tr>\n",
       "      <th>3</th>\n",
       "      <td>#NAME?</td>\n",
       "      <td>16-Jun-24</td>\n",
       "      <td>$838,262</td>\n",
       "      <td>7142</td>\n",
       "      <td>87%</td>\n",
       "      <td>0</td>\n",
       "      <td>8</td>\n",
       "    </tr>\n",
       "    <tr>\n",
       "      <th>4</th>\n",
       "      <td>#NAME?</td>\n",
       "      <td>23-Jun-24</td>\n",
       "      <td>$1,038,278</td>\n",
       "      <td>7689</td>\n",
       "      <td>94%</td>\n",
       "      <td>0</td>\n",
       "      <td>8</td>\n",
       "    </tr>\n",
       "    <tr>\n",
       "      <th>5</th>\n",
       "      <td>#NAME?</td>\n",
       "      <td>30-Jun-24</td>\n",
       "      <td>$949,677</td>\n",
       "      <td>7813</td>\n",
       "      <td>95%</td>\n",
       "      <td>0</td>\n",
       "      <td>8</td>\n",
       "    </tr>\n",
       "    <tr>\n",
       "      <th>6</th>\n",
       "      <td>#NAME?</td>\n",
       "      <td>07-Jul-24</td>\n",
       "      <td>$844,143</td>\n",
       "      <td>7734</td>\n",
       "      <td>94%</td>\n",
       "      <td>0</td>\n",
       "      <td>8</td>\n",
       "    </tr>\n",
       "    <tr>\n",
       "      <th>7</th>\n",
       "      <td>#NAME?</td>\n",
       "      <td>14-Jul-24</td>\n",
       "      <td>$891,323</td>\n",
       "      <td>7604</td>\n",
       "      <td>93%</td>\n",
       "      <td>0</td>\n",
       "      <td>8</td>\n",
       "    </tr>\n",
       "    <tr>\n",
       "      <th>8</th>\n",
       "      <td>#NAME?</td>\n",
       "      <td>21-Jul-24</td>\n",
       "      <td>$933,990</td>\n",
       "      <td>7397</td>\n",
       "      <td>90%</td>\n",
       "      <td>0</td>\n",
       "      <td>8</td>\n",
       "    </tr>\n",
       "    <tr>\n",
       "      <th>9</th>\n",
       "      <td>#NAME?</td>\n",
       "      <td>28-Jul-24</td>\n",
       "      <td>$974,362</td>\n",
       "      <td>7866</td>\n",
       "      <td>96%</td>\n",
       "      <td>0</td>\n",
       "      <td>8</td>\n",
       "    </tr>\n",
       "  </tbody>\n",
       "</table>\n",
       "</div>"
      ],
      "text/plain": [
       "   ShowID       Date       Gross  Attendance % Capacity  # Previews  # Perf.\n",
       "0  #NAME?  26-May-24    $877,626        7540        92%           0        8\n",
       "1  #NAME?  02-Jun-24    $775,476        6824        83%           0        8\n",
       "2  #NAME?  09-Jun-24    $863,817        7109        87%           0        8\n",
       "3  #NAME?  16-Jun-24    $838,262        7142        87%           0        8\n",
       "4  #NAME?  23-Jun-24  $1,038,278        7689        94%           0        8\n",
       "5  #NAME?  30-Jun-24    $949,677        7813        95%           0        8\n",
       "6  #NAME?  07-Jul-24    $844,143        7734        94%           0        8\n",
       "7  #NAME?  14-Jul-24    $891,323        7604        93%           0        8\n",
       "8  #NAME?  21-Jul-24    $933,990        7397        90%           0        8\n",
       "9  #NAME?  28-Jul-24    $974,362        7866        96%           0        8"
      ]
     },
     "execution_count": 88,
     "metadata": {},
     "output_type": "execute_result"
    }
   ],
   "source": [
    "import pandas as pd\n",
    "import matplotlib.pyplot as plt\n",
    "import seaborn as sns\n",
    "\n",
    "data = pd.read_csv('statsOutput.csv')\n",
    "data.head(10)"
   ]
  },
  {
   "cell_type": "markdown",
   "id": "7eb2f497-05e6-4342-9d1c-2cdedb150aab",
   "metadata": {},
   "source": [
    "<b>Initial observations:<b>\n",
    "\n",
    "<ul>\n",
    "    <li><u>Potential error with data scrape:</u> When first opened data file in excel, noticed that some select entries in the ShowID column were displaying as invalid formulas, because they started with dashes ('-'). Under further inspection, it could mean that the regular expression search formula did not account for cases where the broadway shows started with non alphabetical characters, such as the show \"& Juliet\" (534962). Scrape errors in this category will be flagged in a new column.</li>\n",
    "    <li><u>ShowID Transformation:</u> As the show id column follows the pattern show name and show id number, under the assumption that both of them are separate values, their fields may be better separated into show id and show title columns to enhance data quality.</li>\n",
    "</ul>"
   ]
  },
  {
   "cell_type": "markdown",
   "id": "40295ad7-b9ab-436f-91f0-02dacb192db6",
   "metadata": {},
   "source": [
    "<b>Preliminary data analysis:</b>"
   ]
  },
  {
   "cell_type": "code",
   "execution_count": 92,
   "id": "d47748b9-44ef-494a-9d6f-69dc26ebea9c",
   "metadata": {},
   "outputs": [
    {
     "data": {
      "text/plain": [
       "(25991, 7)"
      ]
     },
     "execution_count": 92,
     "metadata": {},
     "output_type": "execute_result"
    }
   ],
   "source": [
    "data.shape"
   ]
  },
  {
   "cell_type": "markdown",
   "id": "19c828ca-def7-46d9-a834-d52a83e0865e",
   "metadata": {},
   "source": [
    "Dataset has 25991 rows and 7 columns."
   ]
  },
  {
   "cell_type": "code",
   "execution_count": 95,
   "id": "dcbb980d-ab66-4248-a903-4648f2dbde88",
   "metadata": {},
   "outputs": [
    {
     "name": "stdout",
     "output_type": "stream",
     "text": [
      "<class 'pandas.core.frame.DataFrame'>\n",
      "RangeIndex: 25991 entries, 0 to 25990\n",
      "Data columns (total 7 columns):\n",
      " #   Column      Non-Null Count  Dtype \n",
      "---  ------      --------------  ----- \n",
      " 0   ShowID      25991 non-null  object\n",
      " 1   Date        25991 non-null  object\n",
      " 2   Gross       25991 non-null  object\n",
      " 3   Attendance  25991 non-null  int64 \n",
      " 4   % Capacity  25991 non-null  object\n",
      " 5   # Previews  25991 non-null  int64 \n",
      " 6   # Perf.     25991 non-null  int64 \n",
      "dtypes: int64(3), object(4)\n",
      "memory usage: 1.4+ MB\n"
     ]
    }
   ],
   "source": [
    "data.info()"
   ]
  },
  {
   "cell_type": "markdown",
   "id": "7ae2c3c4-726b-42aa-b7ca-7c394a0d2bcc",
   "metadata": {},
   "source": [
    "Dataset has no null values\n",
    "\n",
    "Need to change Attendance from float to int\n",
    "\n",
    "Need to change Date from object to datetime\n",
    "\n",
    "Need to change % Capacity to float and convert to decimal\n",
    "\n",
    "Need to change Gross to int"
   ]
  },
  {
   "cell_type": "code",
   "execution_count": 98,
   "id": "79804391-3a7a-4924-ac67-bc68f934b73c",
   "metadata": {},
   "outputs": [
    {
     "data": {
      "text/html": [
       "<div>\n",
       "<style scoped>\n",
       "    .dataframe tbody tr th:only-of-type {\n",
       "        vertical-align: middle;\n",
       "    }\n",
       "\n",
       "    .dataframe tbody tr th {\n",
       "        vertical-align: top;\n",
       "    }\n",
       "\n",
       "    .dataframe thead th {\n",
       "        text-align: right;\n",
       "    }\n",
       "</style>\n",
       "<table border=\"1\" class=\"dataframe\">\n",
       "  <thead>\n",
       "    <tr style=\"text-align: right;\">\n",
       "      <th></th>\n",
       "      <th>ShowID</th>\n",
       "      <th>Date</th>\n",
       "      <th>Gross</th>\n",
       "      <th>Attendance</th>\n",
       "      <th>% Capacity</th>\n",
       "      <th># Previews</th>\n",
       "      <th># Perf.</th>\n",
       "      <th>Gross ($)</th>\n",
       "    </tr>\n",
       "  </thead>\n",
       "  <tbody>\n",
       "    <tr>\n",
       "      <th>count</th>\n",
       "      <td>25991</td>\n",
       "      <td>25991</td>\n",
       "      <td>25991</td>\n",
       "      <td>25991.000000</td>\n",
       "      <td>25991.000000</td>\n",
       "      <td>25991.000000</td>\n",
       "      <td>25991.000000</td>\n",
       "      <td>2.599100e+04</td>\n",
       "    </tr>\n",
       "    <tr>\n",
       "      <th>unique</th>\n",
       "      <td>379</td>\n",
       "      <td>NaN</td>\n",
       "      <td>25734</td>\n",
       "      <td>NaN</td>\n",
       "      <td>NaN</td>\n",
       "      <td>NaN</td>\n",
       "      <td>NaN</td>\n",
       "      <td>NaN</td>\n",
       "    </tr>\n",
       "    <tr>\n",
       "      <th>top</th>\n",
       "      <td>chicago-4804</td>\n",
       "      <td>NaN</td>\n",
       "      <td>$727,178</td>\n",
       "      <td>NaN</td>\n",
       "      <td>NaN</td>\n",
       "      <td>NaN</td>\n",
       "      <td>NaN</td>\n",
       "      <td>NaN</td>\n",
       "    </tr>\n",
       "    <tr>\n",
       "      <th>freq</th>\n",
       "      <td>1395</td>\n",
       "      <td>NaN</td>\n",
       "      <td>3</td>\n",
       "      <td>NaN</td>\n",
       "      <td>NaN</td>\n",
       "      <td>NaN</td>\n",
       "      <td>NaN</td>\n",
       "      <td>NaN</td>\n",
       "    </tr>\n",
       "    <tr>\n",
       "      <th>mean</th>\n",
       "      <td>NaN</td>\n",
       "      <td>2011-05-12 12:05:14.139509760</td>\n",
       "      <td>NaN</td>\n",
       "      <td>8968.211920</td>\n",
       "      <td>0.854178</td>\n",
       "      <td>0.405794</td>\n",
       "      <td>7.497788</td>\n",
       "      <td>8.499829e+05</td>\n",
       "    </tr>\n",
       "    <tr>\n",
       "      <th>min</th>\n",
       "      <td>NaN</td>\n",
       "      <td>1996-03-24 00:00:00</td>\n",
       "      <td>NaN</td>\n",
       "      <td>250.000000</td>\n",
       "      <td>0.090000</td>\n",
       "      <td>0.000000</td>\n",
       "      <td>0.000000</td>\n",
       "      <td>1.334100e+04</td>\n",
       "    </tr>\n",
       "    <tr>\n",
       "      <th>25%</th>\n",
       "      <td>NaN</td>\n",
       "      <td>2005-01-23 00:00:00</td>\n",
       "      <td>NaN</td>\n",
       "      <td>7032.000000</td>\n",
       "      <td>0.760000</td>\n",
       "      <td>0.000000</td>\n",
       "      <td>8.000000</td>\n",
       "      <td>4.857875e+05</td>\n",
       "    </tr>\n",
       "    <tr>\n",
       "      <th>50%</th>\n",
       "      <td>NaN</td>\n",
       "      <td>2011-05-01 00:00:00</td>\n",
       "      <td>NaN</td>\n",
       "      <td>8625.000000</td>\n",
       "      <td>0.890000</td>\n",
       "      <td>0.000000</td>\n",
       "      <td>8.000000</td>\n",
       "      <td>7.324430e+05</td>\n",
       "    </tr>\n",
       "    <tr>\n",
       "      <th>75%</th>\n",
       "      <td>NaN</td>\n",
       "      <td>2017-07-30 00:00:00</td>\n",
       "      <td>NaN</td>\n",
       "      <td>10914.000000</td>\n",
       "      <td>0.980000</td>\n",
       "      <td>0.000000</td>\n",
       "      <td>8.000000</td>\n",
       "      <td>1.067926e+06</td>\n",
       "    </tr>\n",
       "    <tr>\n",
       "      <th>max</th>\n",
       "      <td>NaN</td>\n",
       "      <td>2025-02-02 00:00:00</td>\n",
       "      <td>NaN</td>\n",
       "      <td>21144.000000</td>\n",
       "      <td>1.150000</td>\n",
       "      <td>11.000000</td>\n",
       "      <td>15.000000</td>\n",
       "      <td>5.037392e+06</td>\n",
       "    </tr>\n",
       "    <tr>\n",
       "      <th>std</th>\n",
       "      <td>NaN</td>\n",
       "      <td>NaN</td>\n",
       "      <td>NaN</td>\n",
       "      <td>2850.794538</td>\n",
       "      <td>0.145179</td>\n",
       "      <td>1.629484</td>\n",
       "      <td>1.874574</td>\n",
       "      <td>5.126127e+05</td>\n",
       "    </tr>\n",
       "  </tbody>\n",
       "</table>\n",
       "</div>"
      ],
      "text/plain": [
       "              ShowID                           Date     Gross    Attendance  \\\n",
       "count          25991                          25991     25991  25991.000000   \n",
       "unique           379                            NaN     25734           NaN   \n",
       "top     chicago-4804                            NaN  $727,178           NaN   \n",
       "freq            1395                            NaN         3           NaN   \n",
       "mean             NaN  2011-05-12 12:05:14.139509760       NaN   8968.211920   \n",
       "min              NaN            1996-03-24 00:00:00       NaN    250.000000   \n",
       "25%              NaN            2005-01-23 00:00:00       NaN   7032.000000   \n",
       "50%              NaN            2011-05-01 00:00:00       NaN   8625.000000   \n",
       "75%              NaN            2017-07-30 00:00:00       NaN  10914.000000   \n",
       "max              NaN            2025-02-02 00:00:00       NaN  21144.000000   \n",
       "std              NaN                            NaN       NaN   2850.794538   \n",
       "\n",
       "          % Capacity    # Previews       # Perf.     Gross ($)  \n",
       "count   25991.000000  25991.000000  25991.000000  2.599100e+04  \n",
       "unique           NaN           NaN           NaN           NaN  \n",
       "top              NaN           NaN           NaN           NaN  \n",
       "freq             NaN           NaN           NaN           NaN  \n",
       "mean        0.854178      0.405794      7.497788  8.499829e+05  \n",
       "min         0.090000      0.000000      0.000000  1.334100e+04  \n",
       "25%         0.760000      0.000000      8.000000  4.857875e+05  \n",
       "50%         0.890000      0.000000      8.000000  7.324430e+05  \n",
       "75%         0.980000      0.000000      8.000000  1.067926e+06  \n",
       "max         1.150000     11.000000     15.000000  5.037392e+06  \n",
       "std         0.145179      1.629484      1.874574  5.126127e+05  "
      ]
     },
     "execution_count": 98,
     "metadata": {},
     "output_type": "execute_result"
    }
   ],
   "source": [
    "# DATA TRANSFORMATIONS\n",
    "\n",
    "data['% Capacity'] = data['% Capacity'].apply(lambda x : (int(x[:-1]))/100)\n",
    "data['Attendance'] = data['Attendance'].astype('int64')\n",
    "data['Date'] = pd.to_datetime(data['Date'], format=\"%d-%b-%y\")\n",
    "data['Gross ($)'] = data['Gross'].apply(lambda x : int(x[1:].replace(',','')))\n",
    "\n",
    "data.describe(include='all')"
   ]
  },
  {
   "cell_type": "markdown",
   "id": "32622e6c-73c8-48ea-b6d0-9c4aa4dfeff2",
   "metadata": {},
   "source": [
    "<b>Basic Data Cleanup:</b>"
   ]
  },
  {
   "cell_type": "code",
   "execution_count": 101,
   "id": "b59a0cf6-c499-42d3-8a7f-2b268db4c7d8",
   "metadata": {},
   "outputs": [],
   "source": [
    "data.duplicated().sum()\n",
    "data.drop_duplicates(inplace=True)"
   ]
  },
  {
   "cell_type": "code",
   "execution_count": 103,
   "id": "c7f4229e-b5a0-4d23-96fb-7d7cd54c4399",
   "metadata": {},
   "outputs": [
    {
     "data": {
      "text/plain": [
       "dtype('<M8[ns]')"
      ]
     },
     "execution_count": 103,
     "metadata": {},
     "output_type": "execute_result"
    }
   ],
   "source": [
    "data['Date'].dtype"
   ]
  },
  {
   "cell_type": "markdown",
   "id": "69da2b31-4f19-4209-a31d-a8dc07dc8f8c",
   "metadata": {},
   "source": [
    "No duplicate data."
   ]
  },
  {
   "cell_type": "markdown",
   "id": "e3596524-5277-47e0-8150-7a69cc758a95",
   "metadata": {},
   "source": [
    "<b>Broadway Sales over Time<b>"
   ]
  },
  {
   "cell_type": "code",
   "execution_count": 107,
   "id": "e2f81406-5f17-4a53-82ae-93afc6290eb2",
   "metadata": {},
   "outputs": [
    {
     "data": {
      "image/png": "[encoded data removed]",
      "text/plain": [
       "<Figure size 640x480 with 1 Axes>"
      ]
     },
     "metadata": {},
     "output_type": "display_data"
    }
   ],
   "source": [
    "data.groupby('Date')['Gross ($)'].sum().plot(title='Broadway Ticket Sales over Time')\n",
    "plt.ylabel('Total Sales')\n",
    "plt.xlabel('Date')\n",
    "plt.show()"
   ]
  },
  {
   "cell_type": "markdown",
   "id": "88bd9407-7399-45cc-9216-32bc6fed7ac4",
   "metadata": {},
   "source": [
    "<b>Examining Seasonality in Sales<b>"
   ]
  },
  {
   "cell_type": "code",
   "execution_count": 110,
   "id": "554db258-7a42-4cc7-b794-9f0186acc951",
   "metadata": {},
   "outputs": [
    {
     "data": {
      "image/png": "[encoded data removed]",
      "text/plain": [
       "<Figure size 640x480 with 1 Axes>"
      ]
     },
     "metadata": {},
     "output_type": "display_data"
    }
   ],
   "source": [
    "data['Month'] = data['Date'].dt.month\n",
    "data.groupby('Month')['Gross ($)'].mean().plot(kind='bar', title='Average Sales by Month')\n",
    "plt.xticks(rotation=45)\n",
    "plt.show()"
   ]
  },
  {
   "cell_type": "markdown",
   "id": "db266c52-a772-4ca6-b2f8-9f38b90ba580",
   "metadata": {},
   "source": [
    "December and January (Christmas/Winter Holidays) seem to noticeably have the highest number of sales by month on average."
   ]
  },
  {
   "cell_type": "code",
   "execution_count": 111,
   "id": "05ef1bd6-36d6-435d-beca-1ba091cdb290",
   "metadata": {},
   "outputs": [
    {
     "data": {
      "image/png": "[encoded data removed]",
      "text/plain": [
       "<Figure size 640x480 with 1 Axes>"
      ]
     },
     "metadata": {},
     "output_type": "display_data"
    }
   ],
   "source": [
    "data['Day of Week'] = data['Date'].dt.dayofweek\n",
    "data.groupby('Day of Week')['Gross ($)'].mean().plot(kind='bar', title='Average Sales by Day of Week')\n",
    "plt.xticks(rotation=45)\n",
    "plt.show()"
   ]
  },
  {
   "cell_type": "code",
   "execution_count": 115,
   "id": "193ea689-973b-4425-9446-b48daa984cb8",
   "metadata": {},
   "outputs": [
    {
     "data": {
      "text/plain": [
       "0        6\n",
       "1        6\n",
       "2        6\n",
       "3        6\n",
       "4        6\n",
       "        ..\n",
       "25986    6\n",
       "25987    6\n",
       "25988    6\n",
       "25989    6\n",
       "25990    6\n",
       "Name: Day of Week, Length: 25991, dtype: int32"
      ]
     },
     "execution_count": 115,
     "metadata": {},
     "output_type": "execute_result"
    }
   ],
   "source": [
    "data['Day of Week']"
   ]
  },
  {
   "cell_type": "markdown",
   "id": "72409fde-8c54-4af1-af82-406ba465650b",
   "metadata": {},
   "source": [
    "Upon further inspection, it seems that all broadway shows recorded in the data seem to be from Sundays (6). Either the shows needed for data collection are intended to only be from Sundays, or more data from other days of the week will need to be collected to gather more diversified data."
   ]
  },
  {
   "cell_type": "markdown",
   "id": "5ac3b84c-ff7d-4416-b6d3-1a4a37299c4f",
   "metadata": {},
   "source": [
    "<b>Outlier Detection<b>"
   ]
  },
  {
   "cell_type": "code",
   "execution_count": 124,
   "id": "d3d1a4df-31e6-4069-84ad-0fcecaa15056",
   "metadata": {},
   "outputs": [
    {
     "data": {
      "text/plain": [
       "<Axes: ylabel='Gross ($)'>"
      ]
     },
     "execution_count": 124,
     "metadata": {},
     "output_type": "execute_result"
    },
    {
     "data": {
      "image/png": "[encoded data removed]",
      "text/plain": [
       "<Figure size 640x480 with 1 Axes>"
      ]
     },
     "metadata": {},
     "output_type": "display_data"
    }
   ],
   "source": [
    "sns.boxplot(data=data, y='Gross ($)')"
   ]
  },
  {
   "cell_type": "markdown",
   "id": "e1d30c4b-64e6-4a7c-a0ef-c9d519c89742",
   "metadata": {},
   "source": [
    "Given the box-plot, gross sales for broadway shows appear to be right skewed, which can be explained by several factors:\n",
    "\n",
    "<ul>\n",
    "    <li>Sales may have grown over time due to increased ticket price increase over time, so it may be interesting to standardize on a yearly basis</li>\n",
    "    <li>Large amount of outliers on the high (right) side could be explained by hit shows which had premium pricing and drew large audience sizes, so it may be important to consider and analyze the Show Ids for the shows that grossed over $2 million</li>\n",
    "    <li>Since ticket prices were given from 1996, it may need to be inflation adjusted as well</li>\n",
    "</ul>"
   ]
  }
 ],
 "metadata": {
  "kernelspec": {
   "display_name": "Python [conda env:base] *",
   "language": "python",
   "name": "conda-base-py"
  },
  "language_info": {
   "codemirror_mode": {
    "name": "ipython",
    "version": 3
   },
   "file_extension": ".py",
   "mimetype": "text/x-python",
   "name": "python",
   "nbconvert_exporter": "python",
   "pygments_lexer": "ipython3",
   "version": "3.12.7"
  }
 },
 "nbformat": 4,
 "nbformat_minor": 5
}
