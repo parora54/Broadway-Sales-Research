{
 "cells": [
  {
   "cell_type": "markdown",
   "id": "3ac01347-38cd-4cca-89b4-50d7cfd51c91",
   "metadata": {},
   "source": [
    "# Broadway Sales Research Modeling"
   ]
  },
  {
   "cell_type": "markdown",
   "id": "f281287b-e8fe-4e7d-88e7-989227af56a7",
   "metadata": {},
   "source": [
    "### Import and join datasets"
   ]
  },
  {
   "cell_type": "code",
   "execution_count": 23,
   "id": "e07545c1-730c-4f0b-a912-10c007b66020",
   "metadata": {},
   "outputs": [],
   "source": [
    "import pandas as pd\n",
    "import numpy as np\n",
    "import matplotlib.pyplot as plt\n",
    "import seaborn as sns\n",
    "\n",
    "weather = pd.read_pickle('data/processed/weather.pkl')\n",
    "grosses = pd.read_pickle('data/processed/grosses.pkl')"
   ]
  },
  {
   "cell_type": "code",
   "execution_count": 25,
   "id": "5dab6007-b54c-405e-aa6d-6540446841ba",
   "metadata": {},
   "outputs": [
    {
     "data": {
      "text/html": [
       "<div>\n",
       "<style scoped>\n",
       "    .dataframe tbody tr th:only-of-type {\n",
       "        vertical-align: middle;\n",
       "    }\n",
       "\n",
       "    .dataframe tbody tr th {\n",
       "        vertical-align: top;\n",
       "    }\n",
       "\n",
       "    .dataframe thead th {\n",
       "        text-align: right;\n",
       "    }\n",
       "</style>\n",
       "<table border=\"1\" class=\"dataframe\">\n",
       "  <thead>\n",
       "    <tr style=\"text-align: right;\">\n",
       "      <th></th>\n",
       "      <th>Date</th>\n",
       "      <th>temperature_2m_mean</th>\n",
       "      <th>temperature_2m_min</th>\n",
       "      <th>temperature_2m_max</th>\n",
       "      <th>apparent_temperature_max</th>\n",
       "      <th>apparent_temperature_min</th>\n",
       "      <th>apparent_temperature_mean</th>\n",
       "      <th>precipitation_sum</th>\n",
       "      <th>precipitation_hours</th>\n",
       "      <th>daylight_duration</th>\n",
       "      <th>sunshine_duration</th>\n",
       "      <th>snowfall_sum</th>\n",
       "      <th>showers_sum</th>\n",
       "      <th>rain_sum</th>\n",
       "    </tr>\n",
       "  </thead>\n",
       "  <tbody>\n",
       "    <tr>\n",
       "      <th>0</th>\n",
       "      <td>1996-03-24 04:00:00</td>\n",
       "      <td>3.571250</td>\n",
       "      <td>-1.6725</td>\n",
       "      <td>10.427501</td>\n",
       "      <td>6.503645</td>\n",
       "      <td>-6.534769</td>\n",
       "      <td>-0.805065</td>\n",
       "      <td>0.000000</td>\n",
       "      <td>0.0</td>\n",
       "      <td>44429.293000</td>\n",
       "      <td>40204.098000</td>\n",
       "      <td>0.000000</td>\n",
       "      <td>0.0</td>\n",
       "      <td>0.0</td>\n",
       "    </tr>\n",
       "    <tr>\n",
       "      <th>1</th>\n",
       "      <td>1996-03-31 04:00:00</td>\n",
       "      <td>3.867679</td>\n",
       "      <td>-4.5225</td>\n",
       "      <td>14.877501</td>\n",
       "      <td>12.330812</td>\n",
       "      <td>-8.964521</td>\n",
       "      <td>-0.075191</td>\n",
       "      <td>111.899993</td>\n",
       "      <td>23.0</td>\n",
       "      <td>45082.879857</td>\n",
       "      <td>34754.791714</td>\n",
       "      <td>109.199993</td>\n",
       "      <td>0.0</td>\n",
       "      <td>2.7</td>\n",
       "    </tr>\n",
       "  </tbody>\n",
       "</table>\n",
       "</div>"
      ],
      "text/plain": [
       "                 Date  temperature_2m_mean  temperature_2m_min  \\\n",
       "0 1996-03-24 04:00:00             3.571250             -1.6725   \n",
       "1 1996-03-31 04:00:00             3.867679             -4.5225   \n",
       "\n",
       "   temperature_2m_max  apparent_temperature_max  apparent_temperature_min  \\\n",
       "0           10.427501                  6.503645                 -6.534769   \n",
       "1           14.877501                 12.330812                 -8.964521   \n",
       "\n",
       "   apparent_temperature_mean  precipitation_sum  precipitation_hours  \\\n",
       "0                  -0.805065           0.000000                  0.0   \n",
       "1                  -0.075191         111.899993                 23.0   \n",
       "\n",
       "   daylight_duration  sunshine_duration  snowfall_sum  showers_sum  rain_sum  \n",
       "0       44429.293000       40204.098000      0.000000          0.0       0.0  \n",
       "1       45082.879857       34754.791714    109.199993          0.0       2.7  "
      ]
     },
     "execution_count": 25,
     "metadata": {},
     "output_type": "execute_result"
    }
   ],
   "source": [
    "weather = weather.rename(columns={\"Week Ending\":\"Date\"})\n",
    "weather.head(2)"
   ]
  },
  {
   "cell_type": "code",
   "execution_count": 27,
   "id": "2e624053-9a2a-40c5-b2ff-358b59236f90",
   "metadata": {},
   "outputs": [
    {
     "data": {
      "text/html": [
       "<div>\n",
       "<style scoped>\n",
       "    .dataframe tbody tr th:only-of-type {\n",
       "        vertical-align: middle;\n",
       "    }\n",
       "\n",
       "    .dataframe tbody tr th {\n",
       "        vertical-align: top;\n",
       "    }\n",
       "\n",
       "    .dataframe thead th {\n",
       "        text-align: right;\n",
       "    }\n",
       "</style>\n",
       "<table border=\"1\" class=\"dataframe\">\n",
       "  <thead>\n",
       "    <tr style=\"text-align: right;\">\n",
       "      <th></th>\n",
       "      <th>ShowID</th>\n",
       "      <th>Date</th>\n",
       "      <th>Attendance</th>\n",
       "      <th>% Capacity</th>\n",
       "      <th># Previews</th>\n",
       "      <th># Perf.</th>\n",
       "      <th>Gross ($)</th>\n",
       "      <th>Month</th>\n",
       "      <th>Year</th>\n",
       "      <th>Adjusted Gross</th>\n",
       "    </tr>\n",
       "  </thead>\n",
       "  <tbody>\n",
       "    <tr>\n",
       "      <th>0</th>\n",
       "      <td>&amp;-juliet-534962</td>\n",
       "      <td>2024-05-26</td>\n",
       "      <td>7540</td>\n",
       "      <td>0.92</td>\n",
       "      <td>0</td>\n",
       "      <td>8</td>\n",
       "      <td>877626</td>\n",
       "      <td>5</td>\n",
       "      <td>2024</td>\n",
       "      <td>897398.313035</td>\n",
       "    </tr>\n",
       "    <tr>\n",
       "      <th>1</th>\n",
       "      <td>&amp;-juliet-534962</td>\n",
       "      <td>2024-06-02</td>\n",
       "      <td>6824</td>\n",
       "      <td>0.83</td>\n",
       "      <td>0</td>\n",
       "      <td>8</td>\n",
       "      <td>775476</td>\n",
       "      <td>6</td>\n",
       "      <td>2024</td>\n",
       "      <td>792946.943458</td>\n",
       "    </tr>\n",
       "  </tbody>\n",
       "</table>\n",
       "</div>"
      ],
      "text/plain": [
       "            ShowID       Date  Attendance  % Capacity  # Previews  # Perf.  \\\n",
       "0  &-juliet-534962 2024-05-26        7540        0.92           0        8   \n",
       "1  &-juliet-534962 2024-06-02        6824        0.83           0        8   \n",
       "\n",
       "   Gross ($)  Month  Year  Adjusted Gross  \n",
       "0     877626      5  2024   897398.313035  \n",
       "1     775476      6  2024   792946.943458  "
      ]
     },
     "execution_count": 27,
     "metadata": {},
     "output_type": "execute_result"
    }
   ],
   "source": [
    "grosses.head(2)"
   ]
  },
  {
   "cell_type": "code",
   "execution_count": 39,
   "id": "cbd2be22-f05e-4e4b-9a7e-b021d3ad84aa",
   "metadata": {},
   "outputs": [],
   "source": [
    "# FIXME: Merge DFs\n",
    "df = grosses.merge(weather, how='left', on='Date')"
   ]
  }
 ],
 "metadata": {
  "kernelspec": {
   "display_name": "Python [conda env:base] *",
   "language": "python",
   "name": "conda-base-py"
  },
  "language_info": {
   "codemirror_mode": {
    "name": "ipython",
    "version": 3
   },
   "file_extension": ".py",
   "mimetype": "text/x-python",
   "name": "python",
   "nbconvert_exporter": "python",
   "pygments_lexer": "ipython3",
   "version": "3.12.7"
  }
 },
 "nbformat": 4,
 "nbformat_minor": 5
}
