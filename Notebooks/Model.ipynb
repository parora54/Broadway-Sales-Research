{
 "cells": [
  {
   "cell_type": "markdown",
   "id": "3ac01347-38cd-4cca-89b4-50d7cfd51c91",
   "metadata": {},
   "source": [
    "# Broadway Sales Research Modeling"
   ]
  },
  {
   "cell_type": "markdown",
   "id": "f281287b-e8fe-4e7d-88e7-989227af56a7",
   "metadata": {},
   "source": [
    "### Import and join datasets"
   ]
  },
  {
   "cell_type": "code",
   "execution_count": 98,
   "id": "e07545c1-730c-4f0b-a912-10c007b66020",
   "metadata": {},
   "outputs": [],
   "source": [
    "import pandas as pd\n",
    "import numpy as np\n",
    "import matplotlib.pyplot as plt\n",
    "import seaborn as sns\n",
    "\n",
    "weather = pd.read_pickle('data/processed/weather.pkl')\n",
    "grosses = pd.read_pickle('data/processed/grosses.pkl')"
   ]
  },
  {
   "cell_type": "code",
   "execution_count": 100,
   "id": "5dab6007-b54c-405e-aa6d-6540446841ba",
   "metadata": {},
   "outputs": [
    {
     "data": {
      "text/html": [
       "<div>\n",
       "<style scoped>\n",
       "    .dataframe tbody tr th:only-of-type {\n",
       "        vertical-align: middle;\n",
       "    }\n",
       "\n",
       "    .dataframe tbody tr th {\n",
       "        vertical-align: top;\n",
       "    }\n",
       "\n",
       "    .dataframe thead th {\n",
       "        text-align: right;\n",
       "    }\n",
       "</style>\n",
       "<table border=\"1\" class=\"dataframe\">\n",
       "  <thead>\n",
       "    <tr style=\"text-align: right;\">\n",
       "      <th></th>\n",
       "      <th>Date</th>\n",
       "      <th>temperature_2m_mean</th>\n",
       "      <th>temperature_2m_min</th>\n",
       "      <th>temperature_2m_max</th>\n",
       "      <th>apparent_temperature_max</th>\n",
       "      <th>apparent_temperature_min</th>\n",
       "      <th>apparent_temperature_mean</th>\n",
       "      <th>precipitation_sum</th>\n",
       "      <th>precipitation_hours</th>\n",
       "      <th>daylight_duration</th>\n",
       "      <th>sunshine_duration</th>\n",
       "      <th>snowfall_sum</th>\n",
       "      <th>showers_sum</th>\n",
       "      <th>rain_sum</th>\n",
       "    </tr>\n",
       "  </thead>\n",
       "  <tbody>\n",
       "    <tr>\n",
       "      <th>0</th>\n",
       "      <td>1996-03-24 04:00:00</td>\n",
       "      <td>3.571250</td>\n",
       "      <td>-1.6725</td>\n",
       "      <td>10.427501</td>\n",
       "      <td>6.503645</td>\n",
       "      <td>-6.534769</td>\n",
       "      <td>-0.805065</td>\n",
       "      <td>0.000000</td>\n",
       "      <td>0.0</td>\n",
       "      <td>44429.293000</td>\n",
       "      <td>40204.098000</td>\n",
       "      <td>0.000000</td>\n",
       "      <td>0.0</td>\n",
       "      <td>0.0</td>\n",
       "    </tr>\n",
       "    <tr>\n",
       "      <th>1</th>\n",
       "      <td>1996-03-31 04:00:00</td>\n",
       "      <td>3.867679</td>\n",
       "      <td>-4.5225</td>\n",
       "      <td>14.877501</td>\n",
       "      <td>12.330812</td>\n",
       "      <td>-8.964521</td>\n",
       "      <td>-0.075191</td>\n",
       "      <td>111.899993</td>\n",
       "      <td>23.0</td>\n",
       "      <td>45082.879857</td>\n",
       "      <td>34754.791714</td>\n",
       "      <td>109.199993</td>\n",
       "      <td>0.0</td>\n",
       "      <td>2.7</td>\n",
       "    </tr>\n",
       "  </tbody>\n",
       "</table>\n",
       "</div>"
      ],
      "text/plain": [
       "                 Date  temperature_2m_mean  temperature_2m_min  \\\n",
       "0 1996-03-24 04:00:00             3.571250             -1.6725   \n",
       "1 1996-03-31 04:00:00             3.867679             -4.5225   \n",
       "\n",
       "   temperature_2m_max  apparent_temperature_max  apparent_temperature_min  \\\n",
       "0           10.427501                  6.503645                 -6.534769   \n",
       "1           14.877501                 12.330812                 -8.964521   \n",
       "\n",
       "   apparent_temperature_mean  precipitation_sum  precipitation_hours  \\\n",
       "0                  -0.805065           0.000000                  0.0   \n",
       "1                  -0.075191         111.899993                 23.0   \n",
       "\n",
       "   daylight_duration  sunshine_duration  snowfall_sum  showers_sum  rain_sum  \n",
       "0       44429.293000       40204.098000      0.000000          0.0       0.0  \n",
       "1       45082.879857       34754.791714    109.199993          0.0       2.7  "
      ]
     },
     "execution_count": 100,
     "metadata": {},
     "output_type": "execute_result"
    }
   ],
   "source": [
    "weather = weather.rename(columns={\"Week Ending\":\"Date\"})\n",
    "weather.head(2)"
   ]
  },
  {
   "cell_type": "code",
   "execution_count": 102,
   "id": "2e624053-9a2a-40c5-b2ff-358b59236f90",
   "metadata": {},
   "outputs": [
    {
     "data": {
      "text/html": [
       "<div>\n",
       "<style scoped>\n",
       "    .dataframe tbody tr th:only-of-type {\n",
       "        vertical-align: middle;\n",
       "    }\n",
       "\n",
       "    .dataframe tbody tr th {\n",
       "        vertical-align: top;\n",
       "    }\n",
       "\n",
       "    .dataframe thead th {\n",
       "        text-align: right;\n",
       "    }\n",
       "</style>\n",
       "<table border=\"1\" class=\"dataframe\">\n",
       "  <thead>\n",
       "    <tr style=\"text-align: right;\">\n",
       "      <th></th>\n",
       "      <th>ShowID</th>\n",
       "      <th>Date</th>\n",
       "      <th>Attendance</th>\n",
       "      <th>% Capacity</th>\n",
       "      <th># Previews</th>\n",
       "      <th># Perf.</th>\n",
       "      <th>Gross ($)</th>\n",
       "      <th>Month</th>\n",
       "      <th>Year</th>\n",
       "      <th>Adjusted Gross</th>\n",
       "    </tr>\n",
       "  </thead>\n",
       "  <tbody>\n",
       "    <tr>\n",
       "      <th>0</th>\n",
       "      <td>&amp;-juliet-534962</td>\n",
       "      <td>2024-05-26</td>\n",
       "      <td>7540</td>\n",
       "      <td>0.92</td>\n",
       "      <td>0</td>\n",
       "      <td>8</td>\n",
       "      <td>877626</td>\n",
       "      <td>5</td>\n",
       "      <td>2024</td>\n",
       "      <td>897398.313035</td>\n",
       "    </tr>\n",
       "    <tr>\n",
       "      <th>1</th>\n",
       "      <td>&amp;-juliet-534962</td>\n",
       "      <td>2024-06-02</td>\n",
       "      <td>6824</td>\n",
       "      <td>0.83</td>\n",
       "      <td>0</td>\n",
       "      <td>8</td>\n",
       "      <td>775476</td>\n",
       "      <td>6</td>\n",
       "      <td>2024</td>\n",
       "      <td>792946.943458</td>\n",
       "    </tr>\n",
       "  </tbody>\n",
       "</table>\n",
       "</div>"
      ],
      "text/plain": [
       "            ShowID       Date  Attendance  % Capacity  # Previews  # Perf.  \\\n",
       "0  &-juliet-534962 2024-05-26        7540        0.92           0        8   \n",
       "1  &-juliet-534962 2024-06-02        6824        0.83           0        8   \n",
       "\n",
       "   Gross ($)  Month  Year  Adjusted Gross  \n",
       "0     877626      5  2024   897398.313035  \n",
       "1     775476      6  2024   792946.943458  "
      ]
     },
     "execution_count": 102,
     "metadata": {},
     "output_type": "execute_result"
    }
   ],
   "source": [
    "grosses.head(2)"
   ]
  },
  {
   "cell_type": "code",
   "execution_count": 104,
   "id": "cbd2be22-f05e-4e4b-9a7e-b021d3ad84aa",
   "metadata": {},
   "outputs": [],
   "source": [
    "# Make Date columns same type\n",
    "grosses['Date'] = grosses['Date'].dt.date\n",
    "weather['Date'] = weather['Date'].dt.date"
   ]
  },
  {
   "cell_type": "code",
   "execution_count": 106,
   "id": "88eed5e2-6e57-47ad-985a-3091da64019a",
   "metadata": {},
   "outputs": [],
   "source": [
    "# Merge DFs\n",
    "df = pd.merge(grosses, weather, on='Date', how='inner')"
   ]
  },
  {
   "cell_type": "code",
   "execution_count": 108,
   "id": "55fa35e5-1086-49cd-9b99-a6834c4c137c",
   "metadata": {},
   "outputs": [
    {
     "data": {
      "text/html": [
       "<div>\n",
       "<style scoped>\n",
       "    .dataframe tbody tr th:only-of-type {\n",
       "        vertical-align: middle;\n",
       "    }\n",
       "\n",
       "    .dataframe tbody tr th {\n",
       "        vertical-align: top;\n",
       "    }\n",
       "\n",
       "    .dataframe thead th {\n",
       "        text-align: right;\n",
       "    }\n",
       "</style>\n",
       "<table border=\"1\" class=\"dataframe\">\n",
       "  <thead>\n",
       "    <tr style=\"text-align: right;\">\n",
       "      <th></th>\n",
       "      <th>ShowID</th>\n",
       "      <th>Date</th>\n",
       "      <th>Attendance</th>\n",
       "      <th>% Capacity</th>\n",
       "      <th># Previews</th>\n",
       "      <th># Perf.</th>\n",
       "      <th>Gross ($)</th>\n",
       "      <th>Month</th>\n",
       "      <th>Year</th>\n",
       "      <th>Adjusted Gross</th>\n",
       "      <th>...</th>\n",
       "      <th>apparent_temperature_max</th>\n",
       "      <th>apparent_temperature_min</th>\n",
       "      <th>apparent_temperature_mean</th>\n",
       "      <th>precipitation_sum</th>\n",
       "      <th>precipitation_hours</th>\n",
       "      <th>daylight_duration</th>\n",
       "      <th>sunshine_duration</th>\n",
       "      <th>snowfall_sum</th>\n",
       "      <th>showers_sum</th>\n",
       "      <th>rain_sum</th>\n",
       "    </tr>\n",
       "  </thead>\n",
       "  <tbody>\n",
       "    <tr>\n",
       "      <th>0</th>\n",
       "      <td>&amp;-juliet-534962</td>\n",
       "      <td>2024-05-26</td>\n",
       "      <td>7540</td>\n",
       "      <td>0.92</td>\n",
       "      <td>0</td>\n",
       "      <td>8</td>\n",
       "      <td>877626</td>\n",
       "      <td>5</td>\n",
       "      <td>2024</td>\n",
       "      <td>897398.313035</td>\n",
       "      <td>...</td>\n",
       "      <td>30.266544</td>\n",
       "      <td>9.479221</td>\n",
       "      <td>20.403003</td>\n",
       "      <td>3.200000</td>\n",
       "      <td>6.0</td>\n",
       "      <td>52938.827571</td>\n",
       "      <td>45936.191143</td>\n",
       "      <td>0.0</td>\n",
       "      <td>0.0</td>\n",
       "      <td>3.200000</td>\n",
       "    </tr>\n",
       "    <tr>\n",
       "      <th>1</th>\n",
       "      <td>&amp;-juliet-534962</td>\n",
       "      <td>2024-06-02</td>\n",
       "      <td>6824</td>\n",
       "      <td>0.83</td>\n",
       "      <td>0</td>\n",
       "      <td>8</td>\n",
       "      <td>775476</td>\n",
       "      <td>6</td>\n",
       "      <td>2024</td>\n",
       "      <td>792946.943458</td>\n",
       "      <td>...</td>\n",
       "      <td>27.329185</td>\n",
       "      <td>9.981629</td>\n",
       "      <td>18.406672</td>\n",
       "      <td>49.200001</td>\n",
       "      <td>26.0</td>\n",
       "      <td>53531.232857</td>\n",
       "      <td>42437.518571</td>\n",
       "      <td>0.0</td>\n",
       "      <td>0.0</td>\n",
       "      <td>49.200001</td>\n",
       "    </tr>\n",
       "  </tbody>\n",
       "</table>\n",
       "<p>2 rows × 23 columns</p>\n",
       "</div>"
      ],
      "text/plain": [
       "            ShowID        Date  Attendance  % Capacity  # Previews  # Perf.  \\\n",
       "0  &-juliet-534962  2024-05-26        7540        0.92           0        8   \n",
       "1  &-juliet-534962  2024-06-02        6824        0.83           0        8   \n",
       "\n",
       "   Gross ($)  Month  Year  Adjusted Gross  ...  apparent_temperature_max  \\\n",
       "0     877626      5  2024   897398.313035  ...                 30.266544   \n",
       "1     775476      6  2024   792946.943458  ...                 27.329185   \n",
       "\n",
       "   apparent_temperature_min  apparent_temperature_mean  precipitation_sum  \\\n",
       "0                  9.479221                  20.403003           3.200000   \n",
       "1                  9.981629                  18.406672          49.200001   \n",
       "\n",
       "   precipitation_hours  daylight_duration  sunshine_duration  snowfall_sum  \\\n",
       "0                  6.0       52938.827571       45936.191143           0.0   \n",
       "1                 26.0       53531.232857       42437.518571           0.0   \n",
       "\n",
       "   showers_sum   rain_sum  \n",
       "0          0.0   3.200000  \n",
       "1          0.0  49.200001  \n",
       "\n",
       "[2 rows x 23 columns]"
      ]
     },
     "execution_count": 108,
     "metadata": {},
     "output_type": "execute_result"
    }
   ],
   "source": [
    "df.head(2)"
   ]
  },
  {
   "cell_type": "code",
   "execution_count": 110,
   "id": "5a4999f0-75b9-47a8-b407-2e8b1334a715",
   "metadata": {},
   "outputs": [
    {
     "name": "stdout",
     "output_type": "stream",
     "text": [
      "<class 'pandas.core.frame.DataFrame'>\n",
      "RangeIndex: 25991 entries, 0 to 25990\n",
      "Data columns (total 23 columns):\n",
      " #   Column                     Non-Null Count  Dtype  \n",
      "---  ------                     --------------  -----  \n",
      " 0   ShowID                     25991 non-null  object \n",
      " 1   Date                       25991 non-null  object \n",
      " 2   Attendance                 25991 non-null  int64  \n",
      " 3   % Capacity                 25991 non-null  float64\n",
      " 4   # Previews                 25991 non-null  int64  \n",
      " 5   # Perf.                    25991 non-null  int64  \n",
      " 6   Gross ($)                  25991 non-null  int64  \n",
      " 7   Month                      25991 non-null  int32  \n",
      " 8   Year                       25991 non-null  int32  \n",
      " 9   Adjusted Gross             25991 non-null  float64\n",
      " 10  temperature_2m_mean        25991 non-null  float64\n",
      " 11  temperature_2m_min         25991 non-null  float64\n",
      " 12  temperature_2m_max         25991 non-null  float64\n",
      " 13  apparent_temperature_max   25991 non-null  float64\n",
      " 14  apparent_temperature_min   25991 non-null  float64\n",
      " 15  apparent_temperature_mean  25991 non-null  float64\n",
      " 16  precipitation_sum          25991 non-null  float64\n",
      " 17  precipitation_hours        25991 non-null  float64\n",
      " 18  daylight_duration          25991 non-null  float64\n",
      " 19  sunshine_duration          25991 non-null  float64\n",
      " 20  snowfall_sum               25991 non-null  float64\n",
      " 21  showers_sum                25991 non-null  float64\n",
      " 22  rain_sum                   25991 non-null  float64\n",
      "dtypes: float64(15), int32(2), int64(4), object(2)\n",
      "memory usage: 4.4+ MB\n"
     ]
    }
   ],
   "source": [
    "df.info()"
   ]
  },
  {
   "cell_type": "markdown",
   "id": "dc74e4b0-9c54-455b-b943-c969867a3710",
   "metadata": {},
   "source": [
    "<ul>\n",
    "    <li>\n",
    "        Need to change Date column back to datetime format\n",
    "    </li>\n",
    "    <li>\n",
    "        Need to engineer features to improve model performance:\n",
    "        <ul><li>Create dummy variables for month</li>\n",
    "            <li>Normalize/Standardize variables such as daylight duration or sunshine duration</li>\n",
    "            <li>Remove redundant variables such as unadjusted gross to remove collinearity\n",
    "    </li>"
   ]
  },
  {
   "cell_type": "markdown",
   "id": "8daa518a-9b38-4506-a1fb-48672401b97f",
   "metadata": {},
   "source": [
    "### Data Cleaning"
   ]
  },
  {
   "cell_type": "code",
   "execution_count": 114,
   "id": "4d924217-0e1d-409d-8ce2-1aa49a0edf7b",
   "metadata": {},
   "outputs": [
    {
     "data": {
      "text/plain": [
       "ShowID                       False\n",
       "Date                         False\n",
       "Attendance                   False\n",
       "% Capacity                   False\n",
       "# Previews                   False\n",
       "# Perf.                      False\n",
       "Gross ($)                    False\n",
       "Month                        False\n",
       "Year                         False\n",
       "Adjusted Gross               False\n",
       "temperature_2m_mean          False\n",
       "temperature_2m_min           False\n",
       "temperature_2m_max           False\n",
       "apparent_temperature_max     False\n",
       "apparent_temperature_min     False\n",
       "apparent_temperature_mean    False\n",
       "precipitation_sum            False\n",
       "precipitation_hours          False\n",
       "daylight_duration            False\n",
       "sunshine_duration            False\n",
       "snowfall_sum                 False\n",
       "showers_sum                  False\n",
       "rain_sum                     False\n",
       "dtype: bool"
      ]
     },
     "execution_count": 114,
     "metadata": {},
     "output_type": "execute_result"
    }
   ],
   "source": [
    "# Checking for missing values\n",
    "df.isnull().any()"
   ]
  },
  {
   "cell_type": "markdown",
   "id": "9673a3a6-cefb-47e4-a4e0-c8edde2b3ff3",
   "metadata": {},
   "source": [
    "No missing values"
   ]
  },
  {
   "cell_type": "code",
   "execution_count": 117,
   "id": "f49e368e-d781-4843-b082-18f0d8e879f6",
   "metadata": {},
   "outputs": [],
   "source": [
    "# Converting date column back to datetime type\n",
    "df['Date'] = pd.to_datetime(df['Date'])"
   ]
  },
  {
   "cell_type": "code",
   "execution_count": 119,
   "id": "bee5a84c-c170-493c-b8f6-05afea2eb634",
   "metadata": {},
   "outputs": [],
   "source": [
    "# Account for duplicate rows\n",
    "df = df.drop_duplicates()"
   ]
  },
  {
   "cell_type": "code",
   "execution_count": 121,
   "id": "db1fad24-a3a8-44c0-8820-2411d5d1c2eb",
   "metadata": {},
   "outputs": [],
   "source": [
    "# Drop irrelevant columns\n",
    "df = df.drop(['Gross ($)', 'precipitation_sum', 'showers_sum'], axis = 1)"
   ]
  },
  {
   "cell_type": "code",
   "execution_count": 123,
   "id": "cc987047-5b20-4f55-be80-5df27ac6edd0",
   "metadata": {},
   "outputs": [
    {
     "name": "stdout",
     "output_type": "stream",
     "text": [
      "<class 'pandas.core.frame.DataFrame'>\n",
      "RangeIndex: 25991 entries, 0 to 25990\n",
      "Data columns (total 20 columns):\n",
      " #   Column                     Non-Null Count  Dtype         \n",
      "---  ------                     --------------  -----         \n",
      " 0   ShowID                     25991 non-null  object        \n",
      " 1   Date                       25991 non-null  datetime64[ns]\n",
      " 2   Attendance                 25991 non-null  int64         \n",
      " 3   % Capacity                 25991 non-null  float64       \n",
      " 4   # Previews                 25991 non-null  int64         \n",
      " 5   # Perf.                    25991 non-null  int64         \n",
      " 6   Month                      25991 non-null  int32         \n",
      " 7   Year                       25991 non-null  int32         \n",
      " 8   Adjusted Gross             25991 non-null  float64       \n",
      " 9   temperature_2m_mean        25991 non-null  float64       \n",
      " 10  temperature_2m_min         25991 non-null  float64       \n",
      " 11  temperature_2m_max         25991 non-null  float64       \n",
      " 12  apparent_temperature_max   25991 non-null  float64       \n",
      " 13  apparent_temperature_min   25991 non-null  float64       \n",
      " 14  apparent_temperature_mean  25991 non-null  float64       \n",
      " 15  precipitation_hours        25991 non-null  float64       \n",
      " 16  daylight_duration          25991 non-null  float64       \n",
      " 17  sunshine_duration          25991 non-null  float64       \n",
      " 18  snowfall_sum               25991 non-null  float64       \n",
      " 19  rain_sum                   25991 non-null  float64       \n",
      "dtypes: datetime64[ns](1), float64(13), int32(2), int64(3), object(1)\n",
      "memory usage: 3.8+ MB\n"
     ]
    }
   ],
   "source": [
    "df.info()"
   ]
  },
  {
   "cell_type": "markdown",
   "id": "0dd9aea9-0352-49f0-8169-dc9058d1931d",
   "metadata": {},
   "source": [
    "### Exploratory Data Analysis"
   ]
  },
  {
   "cell_type": "markdown",
   "id": "872123a8-54c2-4aca-ad73-c550ded3a6a9",
   "metadata": {},
   "source": [
    "<b>Univariate Analysis</b>"
   ]
  },
  {
   "cell_type": "code",
   "execution_count": 135,
   "id": "ac2b16e5-78ba-456c-8b66-453ddef53be8",
   "metadata": {},
   "outputs": [
    {
     "data": {
      "text/plain": [
       "<Axes: xlabel='Adjusted Gross', ylabel='Count'>"
      ]
     },
     "execution_count": 135,
     "metadata": {},
     "output_type": "execute_result"
    },
    {
     "data": {
      "image/png": "[encoded data removed]",
      "text/plain": [
       "<Figure size 640x480 with 1 Axes>"
      ]
     },
     "metadata": {},
     "output_type": "display_data"
    }
   ],
   "source": [
    "# Analyzing Grosses\n",
    "sns.histplot(x=df['Adjusted Gross'])"
   ]
  },
  {
   "cell_type": "markdown",
   "id": "b051e024-30bd-45f3-850c-4c0b11452aeb",
   "metadata": {},
   "source": [
    "<ul><li>Grosses are right skewed centered around a mean of roughly $900k</li>\n",
    "<li>Most shows gross between 500k to 1.5M</li>"
   ]
  },
  {
   "cell_type": "code",
   "execution_count": 142,
   "id": "c6be053d-9dc0-4423-9e8c-6a34fd3c98f7",
   "metadata": {},
   "outputs": [
    {
     "data": {
      "text/plain": [
       "<Axes: xlabel='temperature_2m_min'>"
      ]
     },
     "execution_count": 142,
     "metadata": {},
     "output_type": "execute_result"
    },
    {
     "data": {
      "image/png": "[encoded data removed]",
      "text/plain": [
       "<Figure size 640x480 with 3 Axes>"
      ]
     },
     "metadata": {},
     "output_type": "display_data"
    }
   ],
   "source": [
    "# Analyzing Temperature\n",
    "fig, axs = plt.subplots(nrows=3)\n",
    "\n",
    "sns.boxplot(x=df['temperature_2m_max'], ax=axs[0])\n",
    "sns.boxplot(x=df['temperature_2m_mean'], ax=axs[1])\n",
    "sns.boxplot(x=df['temperature_2m_min'], ax=axs[2])"
   ]
  },
  {
   "cell_type": "code",
   "execution_count": 144,
   "id": "415d7d48-1167-429b-8f70-ec01b4170251",
   "metadata": {},
   "outputs": [
    {
     "data": {
      "text/plain": [
       "<Axes: xlabel='Attendance', ylabel='Count'>"
      ]
     },
     "execution_count": 144,
     "metadata": {},
     "output_type": "execute_result"
    },
    {
     "data": {
      "image/png": "[encoded data removed]",
      "text/plain": [
       "<Figure size 640x480 with 1 Axes>"
      ]
     },
     "metadata": {},
     "output_type": "display_data"
    }
   ],
   "source": [
    "# Analyzing Attendance\n",
    "sns.histplot(x=df['Attendance'])"
   ]
  },
  {
   "cell_type": "markdown",
   "id": "54957764-c004-4704-b91a-0ba0a43bb5f7",
   "metadata": {},
   "source": [
    "Relatively normally distributed, peak around higher end because of popular shows"
   ]
  },
  {
   "cell_type": "code",
   "execution_count": null,
   "id": "59486be2-eea1-410c-8982-02f56f228ec1",
   "metadata": {},
   "outputs": [],
   "source": []
  }
 ],
 "metadata": {
  "kernelspec": {
   "display_name": "Python [conda env:base] *",
   "language": "python",
   "name": "conda-base-py"
  },
  "language_info": {
   "codemirror_mode": {
    "name": "ipython",
    "version": 3
   },
   "file_extension": ".py",
   "mimetype": "text/x-python",
   "name": "python",
   "nbconvert_exporter": "python",
   "pygments_lexer": "ipython3",
   "version": "3.12.7"
  }
 },
 "nbformat": 4,
 "nbformat_minor": 5
}
